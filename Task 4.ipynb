{
 "cells": [
  {
   "cell_type": "markdown",
   "id": "58323377",
   "metadata": {},
   "source": [
    "# HOUSE PRICE PREDICTION"
   ]
  },
  {
   "cell_type": "code",
   "execution_count": 1,
   "id": "1d024a7d",
   "metadata": {},
   "outputs": [],
   "source": [
    "# Pandas : librairie de manipulation de données\n",
    "# NumPy : librairie de calcul scientifique\n",
    "# MatPlotLib : librairie de visualisation et graphiques\n",
    "import pandas as pd\n",
    "import numpy as np\n",
    "from matplotlib import pyplot as plt\n",
    "import seaborn as sns\n",
    "\n",
    "from sklearn.model_selection import train_test_split\n",
    "\n",
    "from sklearn.metrics import mean_squared_error, r2_score"
   ]
  },
  {
   "cell_type": "code",
   "execution_count": 3,
   "id": "fb51151c",
   "metadata": {},
   "outputs": [],
   "source": [
    "#dataset\n",
    "df = pd.read_csv(\"./Data/data.csv\")"
   ]
  },
  {
   "cell_type": "code",
   "execution_count": 4,
   "id": "acafff16",
   "metadata": {},
   "outputs": [
    {
     "data": {
      "text/html": [
       "<div>\n",
       "<style scoped>\n",
       "    .dataframe tbody tr th:only-of-type {\n",
       "        vertical-align: middle;\n",
       "    }\n",
       "\n",
       "    .dataframe tbody tr th {\n",
       "        vertical-align: top;\n",
       "    }\n",
       "\n",
       "    .dataframe thead th {\n",
       "        text-align: right;\n",
       "    }\n",
       "</style>\n",
       "<table border=\"1\" class=\"dataframe\">\n",
       "  <thead>\n",
       "    <tr style=\"text-align: right;\">\n",
       "      <th></th>\n",
       "      <th>0</th>\n",
       "      <th>1</th>\n",
       "      <th>2</th>\n",
       "      <th>3</th>\n",
       "      <th>4</th>\n",
       "      <th>5</th>\n",
       "      <th>6</th>\n",
       "      <th>7</th>\n",
       "      <th>8</th>\n",
       "      <th>9</th>\n",
       "    </tr>\n",
       "  </thead>\n",
       "  <tbody>\n",
       "    <tr>\n",
       "      <th>date</th>\n",
       "      <td>2014-05-02 00:00:00</td>\n",
       "      <td>2014-05-02 00:00:00</td>\n",
       "      <td>2014-05-02 00:00:00</td>\n",
       "      <td>2014-05-02 00:00:00</td>\n",
       "      <td>2014-05-02 00:00:00</td>\n",
       "      <td>2014-05-02 00:00:00</td>\n",
       "      <td>2014-05-02 00:00:00</td>\n",
       "      <td>2014-05-02 00:00:00</td>\n",
       "      <td>2014-05-02 00:00:00</td>\n",
       "      <td>2014-05-02 00:00:00</td>\n",
       "    </tr>\n",
       "    <tr>\n",
       "      <th>price</th>\n",
       "      <td>313000.0</td>\n",
       "      <td>2384000.0</td>\n",
       "      <td>342000.0</td>\n",
       "      <td>420000.0</td>\n",
       "      <td>550000.0</td>\n",
       "      <td>490000.0</td>\n",
       "      <td>335000.0</td>\n",
       "      <td>482000.0</td>\n",
       "      <td>452500.0</td>\n",
       "      <td>640000.0</td>\n",
       "    </tr>\n",
       "    <tr>\n",
       "      <th>bedrooms</th>\n",
       "      <td>3.0</td>\n",
       "      <td>5.0</td>\n",
       "      <td>3.0</td>\n",
       "      <td>3.0</td>\n",
       "      <td>4.0</td>\n",
       "      <td>2.0</td>\n",
       "      <td>2.0</td>\n",
       "      <td>4.0</td>\n",
       "      <td>3.0</td>\n",
       "      <td>4.0</td>\n",
       "    </tr>\n",
       "    <tr>\n",
       "      <th>bathrooms</th>\n",
       "      <td>1.5</td>\n",
       "      <td>2.5</td>\n",
       "      <td>2.0</td>\n",
       "      <td>2.25</td>\n",
       "      <td>2.5</td>\n",
       "      <td>1.0</td>\n",
       "      <td>2.0</td>\n",
       "      <td>2.5</td>\n",
       "      <td>2.5</td>\n",
       "      <td>2.0</td>\n",
       "    </tr>\n",
       "    <tr>\n",
       "      <th>sqft_living</th>\n",
       "      <td>1340</td>\n",
       "      <td>3650</td>\n",
       "      <td>1930</td>\n",
       "      <td>2000</td>\n",
       "      <td>1940</td>\n",
       "      <td>880</td>\n",
       "      <td>1350</td>\n",
       "      <td>2710</td>\n",
       "      <td>2430</td>\n",
       "      <td>1520</td>\n",
       "    </tr>\n",
       "    <tr>\n",
       "      <th>sqft_lot</th>\n",
       "      <td>7912</td>\n",
       "      <td>9050</td>\n",
       "      <td>11947</td>\n",
       "      <td>8030</td>\n",
       "      <td>10500</td>\n",
       "      <td>6380</td>\n",
       "      <td>2560</td>\n",
       "      <td>35868</td>\n",
       "      <td>88426</td>\n",
       "      <td>6200</td>\n",
       "    </tr>\n",
       "    <tr>\n",
       "      <th>floors</th>\n",
       "      <td>1.5</td>\n",
       "      <td>2.0</td>\n",
       "      <td>1.0</td>\n",
       "      <td>1.0</td>\n",
       "      <td>1.0</td>\n",
       "      <td>1.0</td>\n",
       "      <td>1.0</td>\n",
       "      <td>2.0</td>\n",
       "      <td>1.0</td>\n",
       "      <td>1.5</td>\n",
       "    </tr>\n",
       "    <tr>\n",
       "      <th>waterfront</th>\n",
       "      <td>0</td>\n",
       "      <td>0</td>\n",
       "      <td>0</td>\n",
       "      <td>0</td>\n",
       "      <td>0</td>\n",
       "      <td>0</td>\n",
       "      <td>0</td>\n",
       "      <td>0</td>\n",
       "      <td>0</td>\n",
       "      <td>0</td>\n",
       "    </tr>\n",
       "    <tr>\n",
       "      <th>view</th>\n",
       "      <td>0</td>\n",
       "      <td>4</td>\n",
       "      <td>0</td>\n",
       "      <td>0</td>\n",
       "      <td>0</td>\n",
       "      <td>0</td>\n",
       "      <td>0</td>\n",
       "      <td>0</td>\n",
       "      <td>0</td>\n",
       "      <td>0</td>\n",
       "    </tr>\n",
       "    <tr>\n",
       "      <th>condition</th>\n",
       "      <td>3</td>\n",
       "      <td>5</td>\n",
       "      <td>4</td>\n",
       "      <td>4</td>\n",
       "      <td>4</td>\n",
       "      <td>3</td>\n",
       "      <td>3</td>\n",
       "      <td>3</td>\n",
       "      <td>4</td>\n",
       "      <td>3</td>\n",
       "    </tr>\n",
       "    <tr>\n",
       "      <th>sqft_above</th>\n",
       "      <td>1340</td>\n",
       "      <td>3370</td>\n",
       "      <td>1930</td>\n",
       "      <td>1000</td>\n",
       "      <td>1140</td>\n",
       "      <td>880</td>\n",
       "      <td>1350</td>\n",
       "      <td>2710</td>\n",
       "      <td>1570</td>\n",
       "      <td>1520</td>\n",
       "    </tr>\n",
       "    <tr>\n",
       "      <th>sqft_basement</th>\n",
       "      <td>0</td>\n",
       "      <td>280</td>\n",
       "      <td>0</td>\n",
       "      <td>1000</td>\n",
       "      <td>800</td>\n",
       "      <td>0</td>\n",
       "      <td>0</td>\n",
       "      <td>0</td>\n",
       "      <td>860</td>\n",
       "      <td>0</td>\n",
       "    </tr>\n",
       "    <tr>\n",
       "      <th>yr_built</th>\n",
       "      <td>1955</td>\n",
       "      <td>1921</td>\n",
       "      <td>1966</td>\n",
       "      <td>1963</td>\n",
       "      <td>1976</td>\n",
       "      <td>1938</td>\n",
       "      <td>1976</td>\n",
       "      <td>1989</td>\n",
       "      <td>1985</td>\n",
       "      <td>1945</td>\n",
       "    </tr>\n",
       "    <tr>\n",
       "      <th>yr_renovated</th>\n",
       "      <td>2005</td>\n",
       "      <td>0</td>\n",
       "      <td>0</td>\n",
       "      <td>0</td>\n",
       "      <td>1992</td>\n",
       "      <td>1994</td>\n",
       "      <td>0</td>\n",
       "      <td>0</td>\n",
       "      <td>0</td>\n",
       "      <td>2010</td>\n",
       "    </tr>\n",
       "    <tr>\n",
       "      <th>street</th>\n",
       "      <td>18810 Densmore Ave N</td>\n",
       "      <td>709 W Blaine St</td>\n",
       "      <td>26206-26214 143rd Ave SE</td>\n",
       "      <td>857 170th Pl NE</td>\n",
       "      <td>9105 170th Ave NE</td>\n",
       "      <td>522 NE 88th St</td>\n",
       "      <td>2616 174th Ave NE</td>\n",
       "      <td>23762 SE 253rd Pl</td>\n",
       "      <td>46611-46625 SE 129th St</td>\n",
       "      <td>6811 55th Ave NE</td>\n",
       "    </tr>\n",
       "    <tr>\n",
       "      <th>city</th>\n",
       "      <td>Shoreline</td>\n",
       "      <td>Seattle</td>\n",
       "      <td>Kent</td>\n",
       "      <td>Bellevue</td>\n",
       "      <td>Redmond</td>\n",
       "      <td>Seattle</td>\n",
       "      <td>Redmond</td>\n",
       "      <td>Maple Valley</td>\n",
       "      <td>North Bend</td>\n",
       "      <td>Seattle</td>\n",
       "    </tr>\n",
       "    <tr>\n",
       "      <th>statezip</th>\n",
       "      <td>WA 98133</td>\n",
       "      <td>WA 98119</td>\n",
       "      <td>WA 98042</td>\n",
       "      <td>WA 98008</td>\n",
       "      <td>WA 98052</td>\n",
       "      <td>WA 98115</td>\n",
       "      <td>WA 98052</td>\n",
       "      <td>WA 98038</td>\n",
       "      <td>WA 98045</td>\n",
       "      <td>WA 98115</td>\n",
       "    </tr>\n",
       "    <tr>\n",
       "      <th>country</th>\n",
       "      <td>USA</td>\n",
       "      <td>USA</td>\n",
       "      <td>USA</td>\n",
       "      <td>USA</td>\n",
       "      <td>USA</td>\n",
       "      <td>USA</td>\n",
       "      <td>USA</td>\n",
       "      <td>USA</td>\n",
       "      <td>USA</td>\n",
       "      <td>USA</td>\n",
       "    </tr>\n",
       "  </tbody>\n",
       "</table>\n",
       "</div>"
      ],
      "text/plain": [
       "                                  0                    1  \\\n",
       "date            2014-05-02 00:00:00  2014-05-02 00:00:00   \n",
       "price                      313000.0            2384000.0   \n",
       "bedrooms                        3.0                  5.0   \n",
       "bathrooms                       1.5                  2.5   \n",
       "sqft_living                    1340                 3650   \n",
       "sqft_lot                       7912                 9050   \n",
       "floors                          1.5                  2.0   \n",
       "waterfront                        0                    0   \n",
       "view                              0                    4   \n",
       "condition                         3                    5   \n",
       "sqft_above                     1340                 3370   \n",
       "sqft_basement                     0                  280   \n",
       "yr_built                       1955                 1921   \n",
       "yr_renovated                   2005                    0   \n",
       "street         18810 Densmore Ave N      709 W Blaine St   \n",
       "city                      Shoreline              Seattle   \n",
       "statezip                   WA 98133             WA 98119   \n",
       "country                         USA                  USA   \n",
       "\n",
       "                                      2                    3  \\\n",
       "date                2014-05-02 00:00:00  2014-05-02 00:00:00   \n",
       "price                          342000.0             420000.0   \n",
       "bedrooms                            3.0                  3.0   \n",
       "bathrooms                           2.0                 2.25   \n",
       "sqft_living                        1930                 2000   \n",
       "sqft_lot                          11947                 8030   \n",
       "floors                              1.0                  1.0   \n",
       "waterfront                            0                    0   \n",
       "view                                  0                    0   \n",
       "condition                             4                    4   \n",
       "sqft_above                         1930                 1000   \n",
       "sqft_basement                         0                 1000   \n",
       "yr_built                           1966                 1963   \n",
       "yr_renovated                          0                    0   \n",
       "street         26206-26214 143rd Ave SE      857 170th Pl NE   \n",
       "city                               Kent             Bellevue   \n",
       "statezip                       WA 98042             WA 98008   \n",
       "country                             USA                  USA   \n",
       "\n",
       "                                 4                    5                    6  \\\n",
       "date           2014-05-02 00:00:00  2014-05-02 00:00:00  2014-05-02 00:00:00   \n",
       "price                     550000.0             490000.0             335000.0   \n",
       "bedrooms                       4.0                  2.0                  2.0   \n",
       "bathrooms                      2.5                  1.0                  2.0   \n",
       "sqft_living                   1940                  880                 1350   \n",
       "sqft_lot                     10500                 6380                 2560   \n",
       "floors                         1.0                  1.0                  1.0   \n",
       "waterfront                       0                    0                    0   \n",
       "view                             0                    0                    0   \n",
       "condition                        4                    3                    3   \n",
       "sqft_above                    1140                  880                 1350   \n",
       "sqft_basement                  800                    0                    0   \n",
       "yr_built                      1976                 1938                 1976   \n",
       "yr_renovated                  1992                 1994                    0   \n",
       "street           9105 170th Ave NE       522 NE 88th St    2616 174th Ave NE   \n",
       "city                       Redmond              Seattle              Redmond   \n",
       "statezip                  WA 98052             WA 98115             WA 98052   \n",
       "country                        USA                  USA                  USA   \n",
       "\n",
       "                                 7                        8  \\\n",
       "date           2014-05-02 00:00:00      2014-05-02 00:00:00   \n",
       "price                     482000.0                 452500.0   \n",
       "bedrooms                       4.0                      3.0   \n",
       "bathrooms                      2.5                      2.5   \n",
       "sqft_living                   2710                     2430   \n",
       "sqft_lot                     35868                    88426   \n",
       "floors                         2.0                      1.0   \n",
       "waterfront                       0                        0   \n",
       "view                             0                        0   \n",
       "condition                        3                        4   \n",
       "sqft_above                    2710                     1570   \n",
       "sqft_basement                    0                      860   \n",
       "yr_built                      1989                     1985   \n",
       "yr_renovated                     0                        0   \n",
       "street           23762 SE 253rd Pl  46611-46625 SE 129th St   \n",
       "city                  Maple Valley               North Bend   \n",
       "statezip                  WA 98038                 WA 98045   \n",
       "country                        USA                      USA   \n",
       "\n",
       "                                 9  \n",
       "date           2014-05-02 00:00:00  \n",
       "price                     640000.0  \n",
       "bedrooms                       4.0  \n",
       "bathrooms                      2.0  \n",
       "sqft_living                   1520  \n",
       "sqft_lot                      6200  \n",
       "floors                         1.5  \n",
       "waterfront                       0  \n",
       "view                             0  \n",
       "condition                        3  \n",
       "sqft_above                    1520  \n",
       "sqft_basement                    0  \n",
       "yr_built                      1945  \n",
       "yr_renovated                  2010  \n",
       "street            6811 55th Ave NE  \n",
       "city                       Seattle  \n",
       "statezip                  WA 98115  \n",
       "country                        USA  "
      ]
     },
     "execution_count": 4,
     "metadata": {},
     "output_type": "execute_result"
    }
   ],
   "source": [
    "df.head(10).T"
   ]
  },
  {
   "cell_type": "code",
   "execution_count": 5,
   "id": "26f00311",
   "metadata": {},
   "outputs": [
    {
     "name": "stdout",
     "output_type": "stream",
     "text": [
      "<class 'pandas.core.frame.DataFrame'>\n",
      "RangeIndex: 4600 entries, 0 to 4599\n",
      "Data columns (total 18 columns):\n",
      " #   Column         Non-Null Count  Dtype  \n",
      "---  ------         --------------  -----  \n",
      " 0   date           4600 non-null   object \n",
      " 1   price          4600 non-null   float64\n",
      " 2   bedrooms       4600 non-null   float64\n",
      " 3   bathrooms      4600 non-null   float64\n",
      " 4   sqft_living    4600 non-null   int64  \n",
      " 5   sqft_lot       4600 non-null   int64  \n",
      " 6   floors         4600 non-null   float64\n",
      " 7   waterfront     4600 non-null   int64  \n",
      " 8   view           4600 non-null   int64  \n",
      " 9   condition      4600 non-null   int64  \n",
      " 10  sqft_above     4600 non-null   int64  \n",
      " 11  sqft_basement  4600 non-null   int64  \n",
      " 12  yr_built       4600 non-null   int64  \n",
      " 13  yr_renovated   4600 non-null   int64  \n",
      " 14  street         4600 non-null   object \n",
      " 15  city           4600 non-null   object \n",
      " 16  statezip       4600 non-null   object \n",
      " 17  country        4600 non-null   object \n",
      "dtypes: float64(4), int64(9), object(5)\n",
      "memory usage: 647.0+ KB\n"
     ]
    }
   ],
   "source": [
    "df.info()"
   ]
  },
  {
   "cell_type": "code",
   "execution_count": 8,
   "id": "0d483b97",
   "metadata": {},
   "outputs": [
    {
     "data": {
      "text/plain": [
       "date             4600\n",
       "price            4600\n",
       "bedrooms         4600\n",
       "bathrooms        4600\n",
       "sqft_living      4600\n",
       "sqft_lot         4600\n",
       "floors           4600\n",
       "waterfront       4600\n",
       "view             4600\n",
       "condition        4600\n",
       "sqft_above       4600\n",
       "sqft_basement    4600\n",
       "yr_built         4600\n",
       "yr_renovated     4600\n",
       "street           4600\n",
       "city             4600\n",
       "statezip         4600\n",
       "country          4600\n",
       "dtype: int64"
      ]
     },
     "execution_count": 8,
     "metadata": {},
     "output_type": "execute_result"
    }
   ],
   "source": [
    "df.count()"
   ]
  },
  {
   "cell_type": "code",
   "execution_count": 9,
   "id": "b5b82011",
   "metadata": {},
   "outputs": [],
   "source": [
    "df['year'] = pd.DatetimeIndex(df['date']).year\n",
    "df['month'] = pd.DatetimeIndex(df['date']).month"
   ]
  },
  {
   "cell_type": "code",
   "execution_count": 10,
   "id": "5e925453",
   "metadata": {},
   "outputs": [
    {
     "data": {
      "text/html": [
       "<div>\n",
       "<style scoped>\n",
       "    .dataframe tbody tr th:only-of-type {\n",
       "        vertical-align: middle;\n",
       "    }\n",
       "\n",
       "    .dataframe tbody tr th {\n",
       "        vertical-align: top;\n",
       "    }\n",
       "\n",
       "    .dataframe thead th {\n",
       "        text-align: right;\n",
       "    }\n",
       "</style>\n",
       "<table border=\"1\" class=\"dataframe\">\n",
       "  <thead>\n",
       "    <tr style=\"text-align: right;\">\n",
       "      <th></th>\n",
       "      <th>0</th>\n",
       "      <th>1</th>\n",
       "      <th>2</th>\n",
       "      <th>3</th>\n",
       "      <th>4</th>\n",
       "      <th>5</th>\n",
       "      <th>6</th>\n",
       "      <th>7</th>\n",
       "      <th>8</th>\n",
       "      <th>9</th>\n",
       "    </tr>\n",
       "  </thead>\n",
       "  <tbody>\n",
       "    <tr>\n",
       "      <th>date</th>\n",
       "      <td>2014-05-02 00:00:00</td>\n",
       "      <td>2014-05-02 00:00:00</td>\n",
       "      <td>2014-05-02 00:00:00</td>\n",
       "      <td>2014-05-02 00:00:00</td>\n",
       "      <td>2014-05-02 00:00:00</td>\n",
       "      <td>2014-05-02 00:00:00</td>\n",
       "      <td>2014-05-02 00:00:00</td>\n",
       "      <td>2014-05-02 00:00:00</td>\n",
       "      <td>2014-05-02 00:00:00</td>\n",
       "      <td>2014-05-02 00:00:00</td>\n",
       "    </tr>\n",
       "    <tr>\n",
       "      <th>price</th>\n",
       "      <td>313000.0</td>\n",
       "      <td>2384000.0</td>\n",
       "      <td>342000.0</td>\n",
       "      <td>420000.0</td>\n",
       "      <td>550000.0</td>\n",
       "      <td>490000.0</td>\n",
       "      <td>335000.0</td>\n",
       "      <td>482000.0</td>\n",
       "      <td>452500.0</td>\n",
       "      <td>640000.0</td>\n",
       "    </tr>\n",
       "    <tr>\n",
       "      <th>bedrooms</th>\n",
       "      <td>3.0</td>\n",
       "      <td>5.0</td>\n",
       "      <td>3.0</td>\n",
       "      <td>3.0</td>\n",
       "      <td>4.0</td>\n",
       "      <td>2.0</td>\n",
       "      <td>2.0</td>\n",
       "      <td>4.0</td>\n",
       "      <td>3.0</td>\n",
       "      <td>4.0</td>\n",
       "    </tr>\n",
       "    <tr>\n",
       "      <th>bathrooms</th>\n",
       "      <td>1.5</td>\n",
       "      <td>2.5</td>\n",
       "      <td>2.0</td>\n",
       "      <td>2.25</td>\n",
       "      <td>2.5</td>\n",
       "      <td>1.0</td>\n",
       "      <td>2.0</td>\n",
       "      <td>2.5</td>\n",
       "      <td>2.5</td>\n",
       "      <td>2.0</td>\n",
       "    </tr>\n",
       "    <tr>\n",
       "      <th>sqft_living</th>\n",
       "      <td>1340</td>\n",
       "      <td>3650</td>\n",
       "      <td>1930</td>\n",
       "      <td>2000</td>\n",
       "      <td>1940</td>\n",
       "      <td>880</td>\n",
       "      <td>1350</td>\n",
       "      <td>2710</td>\n",
       "      <td>2430</td>\n",
       "      <td>1520</td>\n",
       "    </tr>\n",
       "    <tr>\n",
       "      <th>sqft_lot</th>\n",
       "      <td>7912</td>\n",
       "      <td>9050</td>\n",
       "      <td>11947</td>\n",
       "      <td>8030</td>\n",
       "      <td>10500</td>\n",
       "      <td>6380</td>\n",
       "      <td>2560</td>\n",
       "      <td>35868</td>\n",
       "      <td>88426</td>\n",
       "      <td>6200</td>\n",
       "    </tr>\n",
       "    <tr>\n",
       "      <th>floors</th>\n",
       "      <td>1.5</td>\n",
       "      <td>2.0</td>\n",
       "      <td>1.0</td>\n",
       "      <td>1.0</td>\n",
       "      <td>1.0</td>\n",
       "      <td>1.0</td>\n",
       "      <td>1.0</td>\n",
       "      <td>2.0</td>\n",
       "      <td>1.0</td>\n",
       "      <td>1.5</td>\n",
       "    </tr>\n",
       "    <tr>\n",
       "      <th>waterfront</th>\n",
       "      <td>0</td>\n",
       "      <td>0</td>\n",
       "      <td>0</td>\n",
       "      <td>0</td>\n",
       "      <td>0</td>\n",
       "      <td>0</td>\n",
       "      <td>0</td>\n",
       "      <td>0</td>\n",
       "      <td>0</td>\n",
       "      <td>0</td>\n",
       "    </tr>\n",
       "    <tr>\n",
       "      <th>view</th>\n",
       "      <td>0</td>\n",
       "      <td>4</td>\n",
       "      <td>0</td>\n",
       "      <td>0</td>\n",
       "      <td>0</td>\n",
       "      <td>0</td>\n",
       "      <td>0</td>\n",
       "      <td>0</td>\n",
       "      <td>0</td>\n",
       "      <td>0</td>\n",
       "    </tr>\n",
       "    <tr>\n",
       "      <th>condition</th>\n",
       "      <td>3</td>\n",
       "      <td>5</td>\n",
       "      <td>4</td>\n",
       "      <td>4</td>\n",
       "      <td>4</td>\n",
       "      <td>3</td>\n",
       "      <td>3</td>\n",
       "      <td>3</td>\n",
       "      <td>4</td>\n",
       "      <td>3</td>\n",
       "    </tr>\n",
       "    <tr>\n",
       "      <th>sqft_above</th>\n",
       "      <td>1340</td>\n",
       "      <td>3370</td>\n",
       "      <td>1930</td>\n",
       "      <td>1000</td>\n",
       "      <td>1140</td>\n",
       "      <td>880</td>\n",
       "      <td>1350</td>\n",
       "      <td>2710</td>\n",
       "      <td>1570</td>\n",
       "      <td>1520</td>\n",
       "    </tr>\n",
       "    <tr>\n",
       "      <th>sqft_basement</th>\n",
       "      <td>0</td>\n",
       "      <td>280</td>\n",
       "      <td>0</td>\n",
       "      <td>1000</td>\n",
       "      <td>800</td>\n",
       "      <td>0</td>\n",
       "      <td>0</td>\n",
       "      <td>0</td>\n",
       "      <td>860</td>\n",
       "      <td>0</td>\n",
       "    </tr>\n",
       "    <tr>\n",
       "      <th>yr_built</th>\n",
       "      <td>1955</td>\n",
       "      <td>1921</td>\n",
       "      <td>1966</td>\n",
       "      <td>1963</td>\n",
       "      <td>1976</td>\n",
       "      <td>1938</td>\n",
       "      <td>1976</td>\n",
       "      <td>1989</td>\n",
       "      <td>1985</td>\n",
       "      <td>1945</td>\n",
       "    </tr>\n",
       "    <tr>\n",
       "      <th>yr_renovated</th>\n",
       "      <td>2005</td>\n",
       "      <td>0</td>\n",
       "      <td>0</td>\n",
       "      <td>0</td>\n",
       "      <td>1992</td>\n",
       "      <td>1994</td>\n",
       "      <td>0</td>\n",
       "      <td>0</td>\n",
       "      <td>0</td>\n",
       "      <td>2010</td>\n",
       "    </tr>\n",
       "    <tr>\n",
       "      <th>street</th>\n",
       "      <td>18810 Densmore Ave N</td>\n",
       "      <td>709 W Blaine St</td>\n",
       "      <td>26206-26214 143rd Ave SE</td>\n",
       "      <td>857 170th Pl NE</td>\n",
       "      <td>9105 170th Ave NE</td>\n",
       "      <td>522 NE 88th St</td>\n",
       "      <td>2616 174th Ave NE</td>\n",
       "      <td>23762 SE 253rd Pl</td>\n",
       "      <td>46611-46625 SE 129th St</td>\n",
       "      <td>6811 55th Ave NE</td>\n",
       "    </tr>\n",
       "    <tr>\n",
       "      <th>city</th>\n",
       "      <td>Shoreline</td>\n",
       "      <td>Seattle</td>\n",
       "      <td>Kent</td>\n",
       "      <td>Bellevue</td>\n",
       "      <td>Redmond</td>\n",
       "      <td>Seattle</td>\n",
       "      <td>Redmond</td>\n",
       "      <td>Maple Valley</td>\n",
       "      <td>North Bend</td>\n",
       "      <td>Seattle</td>\n",
       "    </tr>\n",
       "    <tr>\n",
       "      <th>statezip</th>\n",
       "      <td>WA 98133</td>\n",
       "      <td>WA 98119</td>\n",
       "      <td>WA 98042</td>\n",
       "      <td>WA 98008</td>\n",
       "      <td>WA 98052</td>\n",
       "      <td>WA 98115</td>\n",
       "      <td>WA 98052</td>\n",
       "      <td>WA 98038</td>\n",
       "      <td>WA 98045</td>\n",
       "      <td>WA 98115</td>\n",
       "    </tr>\n",
       "    <tr>\n",
       "      <th>country</th>\n",
       "      <td>USA</td>\n",
       "      <td>USA</td>\n",
       "      <td>USA</td>\n",
       "      <td>USA</td>\n",
       "      <td>USA</td>\n",
       "      <td>USA</td>\n",
       "      <td>USA</td>\n",
       "      <td>USA</td>\n",
       "      <td>USA</td>\n",
       "      <td>USA</td>\n",
       "    </tr>\n",
       "    <tr>\n",
       "      <th>year</th>\n",
       "      <td>2014</td>\n",
       "      <td>2014</td>\n",
       "      <td>2014</td>\n",
       "      <td>2014</td>\n",
       "      <td>2014</td>\n",
       "      <td>2014</td>\n",
       "      <td>2014</td>\n",
       "      <td>2014</td>\n",
       "      <td>2014</td>\n",
       "      <td>2014</td>\n",
       "    </tr>\n",
       "    <tr>\n",
       "      <th>month</th>\n",
       "      <td>5</td>\n",
       "      <td>5</td>\n",
       "      <td>5</td>\n",
       "      <td>5</td>\n",
       "      <td>5</td>\n",
       "      <td>5</td>\n",
       "      <td>5</td>\n",
       "      <td>5</td>\n",
       "      <td>5</td>\n",
       "      <td>5</td>\n",
       "    </tr>\n",
       "  </tbody>\n",
       "</table>\n",
       "</div>"
      ],
      "text/plain": [
       "                                  0                    1  \\\n",
       "date            2014-05-02 00:00:00  2014-05-02 00:00:00   \n",
       "price                      313000.0            2384000.0   \n",
       "bedrooms                        3.0                  5.0   \n",
       "bathrooms                       1.5                  2.5   \n",
       "sqft_living                    1340                 3650   \n",
       "sqft_lot                       7912                 9050   \n",
       "floors                          1.5                  2.0   \n",
       "waterfront                        0                    0   \n",
       "view                              0                    4   \n",
       "condition                         3                    5   \n",
       "sqft_above                     1340                 3370   \n",
       "sqft_basement                     0                  280   \n",
       "yr_built                       1955                 1921   \n",
       "yr_renovated                   2005                    0   \n",
       "street         18810 Densmore Ave N      709 W Blaine St   \n",
       "city                      Shoreline              Seattle   \n",
       "statezip                   WA 98133             WA 98119   \n",
       "country                         USA                  USA   \n",
       "year                           2014                 2014   \n",
       "month                             5                    5   \n",
       "\n",
       "                                      2                    3  \\\n",
       "date                2014-05-02 00:00:00  2014-05-02 00:00:00   \n",
       "price                          342000.0             420000.0   \n",
       "bedrooms                            3.0                  3.0   \n",
       "bathrooms                           2.0                 2.25   \n",
       "sqft_living                        1930                 2000   \n",
       "sqft_lot                          11947                 8030   \n",
       "floors                              1.0                  1.0   \n",
       "waterfront                            0                    0   \n",
       "view                                  0                    0   \n",
       "condition                             4                    4   \n",
       "sqft_above                         1930                 1000   \n",
       "sqft_basement                         0                 1000   \n",
       "yr_built                           1966                 1963   \n",
       "yr_renovated                          0                    0   \n",
       "street         26206-26214 143rd Ave SE      857 170th Pl NE   \n",
       "city                               Kent             Bellevue   \n",
       "statezip                       WA 98042             WA 98008   \n",
       "country                             USA                  USA   \n",
       "year                               2014                 2014   \n",
       "month                                 5                    5   \n",
       "\n",
       "                                 4                    5                    6  \\\n",
       "date           2014-05-02 00:00:00  2014-05-02 00:00:00  2014-05-02 00:00:00   \n",
       "price                     550000.0             490000.0             335000.0   \n",
       "bedrooms                       4.0                  2.0                  2.0   \n",
       "bathrooms                      2.5                  1.0                  2.0   \n",
       "sqft_living                   1940                  880                 1350   \n",
       "sqft_lot                     10500                 6380                 2560   \n",
       "floors                         1.0                  1.0                  1.0   \n",
       "waterfront                       0                    0                    0   \n",
       "view                             0                    0                    0   \n",
       "condition                        4                    3                    3   \n",
       "sqft_above                    1140                  880                 1350   \n",
       "sqft_basement                  800                    0                    0   \n",
       "yr_built                      1976                 1938                 1976   \n",
       "yr_renovated                  1992                 1994                    0   \n",
       "street           9105 170th Ave NE       522 NE 88th St    2616 174th Ave NE   \n",
       "city                       Redmond              Seattle              Redmond   \n",
       "statezip                  WA 98052             WA 98115             WA 98052   \n",
       "country                        USA                  USA                  USA   \n",
       "year                          2014                 2014                 2014   \n",
       "month                            5                    5                    5   \n",
       "\n",
       "                                 7                        8  \\\n",
       "date           2014-05-02 00:00:00      2014-05-02 00:00:00   \n",
       "price                     482000.0                 452500.0   \n",
       "bedrooms                       4.0                      3.0   \n",
       "bathrooms                      2.5                      2.5   \n",
       "sqft_living                   2710                     2430   \n",
       "sqft_lot                     35868                    88426   \n",
       "floors                         2.0                      1.0   \n",
       "waterfront                       0                        0   \n",
       "view                             0                        0   \n",
       "condition                        3                        4   \n",
       "sqft_above                    2710                     1570   \n",
       "sqft_basement                    0                      860   \n",
       "yr_built                      1989                     1985   \n",
       "yr_renovated                     0                        0   \n",
       "street           23762 SE 253rd Pl  46611-46625 SE 129th St   \n",
       "city                  Maple Valley               North Bend   \n",
       "statezip                  WA 98038                 WA 98045   \n",
       "country                        USA                      USA   \n",
       "year                          2014                     2014   \n",
       "month                            5                        5   \n",
       "\n",
       "                                 9  \n",
       "date           2014-05-02 00:00:00  \n",
       "price                     640000.0  \n",
       "bedrooms                       4.0  \n",
       "bathrooms                      2.0  \n",
       "sqft_living                   1520  \n",
       "sqft_lot                      6200  \n",
       "floors                         1.5  \n",
       "waterfront                       0  \n",
       "view                             0  \n",
       "condition                        3  \n",
       "sqft_above                    1520  \n",
       "sqft_basement                    0  \n",
       "yr_built                      1945  \n",
       "yr_renovated                  2010  \n",
       "street            6811 55th Ave NE  \n",
       "city                       Seattle  \n",
       "statezip                  WA 98115  \n",
       "country                        USA  \n",
       "year                          2014  \n",
       "month                            5  "
      ]
     },
     "execution_count": 10,
     "metadata": {},
     "output_type": "execute_result"
    }
   ],
   "source": [
    "df.head(10).T"
   ]
  },
  {
   "cell_type": "code",
   "execution_count": 11,
   "id": "5ae64490",
   "metadata": {},
   "outputs": [
    {
     "name": "stdout",
     "output_type": "stream",
     "text": [
      "<class 'pandas.core.frame.DataFrame'>\n",
      "RangeIndex: 4600 entries, 0 to 4599\n",
      "Data columns (total 20 columns):\n",
      " #   Column         Non-Null Count  Dtype  \n",
      "---  ------         --------------  -----  \n",
      " 0   date           4600 non-null   object \n",
      " 1   price          4600 non-null   float64\n",
      " 2   bedrooms       4600 non-null   float64\n",
      " 3   bathrooms      4600 non-null   float64\n",
      " 4   sqft_living    4600 non-null   int64  \n",
      " 5   sqft_lot       4600 non-null   int64  \n",
      " 6   floors         4600 non-null   float64\n",
      " 7   waterfront     4600 non-null   int64  \n",
      " 8   view           4600 non-null   int64  \n",
      " 9   condition      4600 non-null   int64  \n",
      " 10  sqft_above     4600 non-null   int64  \n",
      " 11  sqft_basement  4600 non-null   int64  \n",
      " 12  yr_built       4600 non-null   int64  \n",
      " 13  yr_renovated   4600 non-null   int64  \n",
      " 14  street         4600 non-null   object \n",
      " 15  city           4600 non-null   object \n",
      " 16  statezip       4600 non-null   object \n",
      " 17  country        4600 non-null   object \n",
      " 18  year           4600 non-null   int64  \n",
      " 19  month          4600 non-null   int64  \n",
      "dtypes: float64(4), int64(11), object(5)\n",
      "memory usage: 718.9+ KB\n"
     ]
    }
   ],
   "source": [
    "df.info()"
   ]
  },
  {
   "cell_type": "code",
   "execution_count": 12,
   "id": "9af2c73c",
   "metadata": {},
   "outputs": [
    {
     "data": {
      "text/plain": [
       "<AxesSubplot:xlabel='year,month'>"
      ]
     },
     "execution_count": 12,
     "metadata": {},
     "output_type": "execute_result"
    },
    {
     "data": {
      "image/png": "[encoded data removed]",
      "text/plain": [
       "<Figure size 864x576 with 1 Axes>"
      ]
     },
     "metadata": {
      "needs_background": "light"
     },
     "output_type": "display_data"
    }
   ],
   "source": [
    "df.groupby(['year','month'])['price'].mean().plot(kind = 'bar', figsize=(12,8))"
   ]
  },
  {
   "cell_type": "code",
   "execution_count": 13,
   "id": "a7a6bef4",
   "metadata": {},
   "outputs": [
    {
     "data": {
      "text/plain": [
       "<AxesSubplot:xlabel='month'>"
      ]
     },
     "execution_count": 13,
     "metadata": {},
     "output_type": "execute_result"
    },
    {
     "data": {
      "image/png": "[encoded data removed]",
      "text/plain": [
       "<Figure size 864x576 with 1 Axes>"
      ]
     },
     "metadata": {
      "needs_background": "light"
     },
     "output_type": "display_data"
    }
   ],
   "source": [
    "df.groupby(['month'])['price'].count().plot(kind = 'bar', figsize=(12,8))"
   ]
  },
  {
   "cell_type": "code",
   "execution_count": 14,
   "id": "7255f6e3",
   "metadata": {},
   "outputs": [],
   "source": [
    "df = df.drop(['date'], axis=1)\n",
    "df = df.drop(['year'], axis=1)"
   ]
  },
  {
   "cell_type": "code",
   "execution_count": 15,
   "id": "c684f23b",
   "metadata": {},
   "outputs": [],
   "source": [
    "tabcorr = df.corr()"
   ]
  },
  {
   "cell_type": "code",
   "execution_count": 16,
   "id": "b2bea503",
   "metadata": {},
   "outputs": [
    {
     "data": {
      "text/html": [
       "<div>\n",
       "<style scoped>\n",
       "    .dataframe tbody tr th:only-of-type {\n",
       "        vertical-align: middle;\n",
       "    }\n",
       "\n",
       "    .dataframe tbody tr th {\n",
       "        vertical-align: top;\n",
       "    }\n",
       "\n",
       "    .dataframe thead th {\n",
       "        text-align: right;\n",
       "    }\n",
       "</style>\n",
       "<table border=\"1\" class=\"dataframe\">\n",
       "  <thead>\n",
       "    <tr style=\"text-align: right;\">\n",
       "      <th></th>\n",
       "      <th>price</th>\n",
       "      <th>bedrooms</th>\n",
       "      <th>bathrooms</th>\n",
       "      <th>sqft_living</th>\n",
       "      <th>sqft_lot</th>\n",
       "      <th>floors</th>\n",
       "      <th>waterfront</th>\n",
       "      <th>view</th>\n",
       "      <th>condition</th>\n",
       "      <th>sqft_above</th>\n",
       "      <th>sqft_basement</th>\n",
       "      <th>yr_built</th>\n",
       "      <th>yr_renovated</th>\n",
       "      <th>month</th>\n",
       "    </tr>\n",
       "  </thead>\n",
       "  <tbody>\n",
       "    <tr>\n",
       "      <th>price</th>\n",
       "      <td>1.000000</td>\n",
       "      <td>0.200336</td>\n",
       "      <td>0.327110</td>\n",
       "      <td>0.430410</td>\n",
       "      <td>0.050451</td>\n",
       "      <td>0.151461</td>\n",
       "      <td>0.135648</td>\n",
       "      <td>0.228504</td>\n",
       "      <td>0.034915</td>\n",
       "      <td>0.367570</td>\n",
       "      <td>0.210427</td>\n",
       "      <td>0.021857</td>\n",
       "      <td>-0.028774</td>\n",
       "      <td>0.041081</td>\n",
       "    </tr>\n",
       "    <tr>\n",
       "      <th>bedrooms</th>\n",
       "      <td>0.200336</td>\n",
       "      <td>1.000000</td>\n",
       "      <td>0.545920</td>\n",
       "      <td>0.594884</td>\n",
       "      <td>0.068819</td>\n",
       "      <td>0.177895</td>\n",
       "      <td>-0.003483</td>\n",
       "      <td>0.111028</td>\n",
       "      <td>0.025080</td>\n",
       "      <td>0.484705</td>\n",
       "      <td>0.334165</td>\n",
       "      <td>0.142461</td>\n",
       "      <td>-0.061082</td>\n",
       "      <td>0.010835</td>\n",
       "    </tr>\n",
       "    <tr>\n",
       "      <th>bathrooms</th>\n",
       "      <td>0.327110</td>\n",
       "      <td>0.545920</td>\n",
       "      <td>1.000000</td>\n",
       "      <td>0.761154</td>\n",
       "      <td>0.107837</td>\n",
       "      <td>0.486428</td>\n",
       "      <td>0.076232</td>\n",
       "      <td>0.211960</td>\n",
       "      <td>-0.119994</td>\n",
       "      <td>0.689918</td>\n",
       "      <td>0.298020</td>\n",
       "      <td>0.463498</td>\n",
       "      <td>-0.215886</td>\n",
       "      <td>0.026697</td>\n",
       "    </tr>\n",
       "    <tr>\n",
       "      <th>sqft_living</th>\n",
       "      <td>0.430410</td>\n",
       "      <td>0.594884</td>\n",
       "      <td>0.761154</td>\n",
       "      <td>1.000000</td>\n",
       "      <td>0.210538</td>\n",
       "      <td>0.344850</td>\n",
       "      <td>0.117616</td>\n",
       "      <td>0.311009</td>\n",
       "      <td>-0.062826</td>\n",
       "      <td>0.876443</td>\n",
       "      <td>0.447206</td>\n",
       "      <td>0.287775</td>\n",
       "      <td>-0.122817</td>\n",
       "      <td>0.032825</td>\n",
       "    </tr>\n",
       "    <tr>\n",
       "      <th>sqft_lot</th>\n",
       "      <td>0.050451</td>\n",
       "      <td>0.068819</td>\n",
       "      <td>0.107837</td>\n",
       "      <td>0.210538</td>\n",
       "      <td>1.000000</td>\n",
       "      <td>0.003750</td>\n",
       "      <td>0.017241</td>\n",
       "      <td>0.073907</td>\n",
       "      <td>0.000558</td>\n",
       "      <td>0.216455</td>\n",
       "      <td>0.034842</td>\n",
       "      <td>0.050706</td>\n",
       "      <td>-0.022730</td>\n",
       "      <td>-0.023286</td>\n",
       "    </tr>\n",
       "    <tr>\n",
       "      <th>floors</th>\n",
       "      <td>0.151461</td>\n",
       "      <td>0.177895</td>\n",
       "      <td>0.486428</td>\n",
       "      <td>0.344850</td>\n",
       "      <td>0.003750</td>\n",
       "      <td>1.000000</td>\n",
       "      <td>0.022024</td>\n",
       "      <td>0.031211</td>\n",
       "      <td>-0.275013</td>\n",
       "      <td>0.522814</td>\n",
       "      <td>-0.255510</td>\n",
       "      <td>0.467481</td>\n",
       "      <td>-0.233996</td>\n",
       "      <td>0.036890</td>\n",
       "    </tr>\n",
       "    <tr>\n",
       "      <th>waterfront</th>\n",
       "      <td>0.135648</td>\n",
       "      <td>-0.003483</td>\n",
       "      <td>0.076232</td>\n",
       "      <td>0.117616</td>\n",
       "      <td>0.017241</td>\n",
       "      <td>0.022024</td>\n",
       "      <td>1.000000</td>\n",
       "      <td>0.360935</td>\n",
       "      <td>0.000352</td>\n",
       "      <td>0.078911</td>\n",
       "      <td>0.097501</td>\n",
       "      <td>-0.023563</td>\n",
       "      <td>0.008625</td>\n",
       "      <td>0.007530</td>\n",
       "    </tr>\n",
       "    <tr>\n",
       "      <th>view</th>\n",
       "      <td>0.228504</td>\n",
       "      <td>0.111028</td>\n",
       "      <td>0.211960</td>\n",
       "      <td>0.311009</td>\n",
       "      <td>0.073907</td>\n",
       "      <td>0.031211</td>\n",
       "      <td>0.360935</td>\n",
       "      <td>1.000000</td>\n",
       "      <td>0.063077</td>\n",
       "      <td>0.174327</td>\n",
       "      <td>0.321602</td>\n",
       "      <td>-0.064465</td>\n",
       "      <td>0.022967</td>\n",
       "      <td>-0.011304</td>\n",
       "    </tr>\n",
       "    <tr>\n",
       "      <th>condition</th>\n",
       "      <td>0.034915</td>\n",
       "      <td>0.025080</td>\n",
       "      <td>-0.119994</td>\n",
       "      <td>-0.062826</td>\n",
       "      <td>0.000558</td>\n",
       "      <td>-0.275013</td>\n",
       "      <td>0.000352</td>\n",
       "      <td>0.063077</td>\n",
       "      <td>1.000000</td>\n",
       "      <td>-0.178196</td>\n",
       "      <td>0.200632</td>\n",
       "      <td>-0.399698</td>\n",
       "      <td>-0.186818</td>\n",
       "      <td>0.017695</td>\n",
       "    </tr>\n",
       "    <tr>\n",
       "      <th>sqft_above</th>\n",
       "      <td>0.367570</td>\n",
       "      <td>0.484705</td>\n",
       "      <td>0.689918</td>\n",
       "      <td>0.876443</td>\n",
       "      <td>0.216455</td>\n",
       "      <td>0.522814</td>\n",
       "      <td>0.078911</td>\n",
       "      <td>0.174327</td>\n",
       "      <td>-0.178196</td>\n",
       "      <td>1.000000</td>\n",
       "      <td>-0.038723</td>\n",
       "      <td>0.408535</td>\n",
       "      <td>-0.160426</td>\n",
       "      <td>0.042919</td>\n",
       "    </tr>\n",
       "    <tr>\n",
       "      <th>sqft_basement</th>\n",
       "      <td>0.210427</td>\n",
       "      <td>0.334165</td>\n",
       "      <td>0.298020</td>\n",
       "      <td>0.447206</td>\n",
       "      <td>0.034842</td>\n",
       "      <td>-0.255510</td>\n",
       "      <td>0.097501</td>\n",
       "      <td>0.321602</td>\n",
       "      <td>0.200632</td>\n",
       "      <td>-0.038723</td>\n",
       "      <td>1.000000</td>\n",
       "      <td>-0.161675</td>\n",
       "      <td>0.043125</td>\n",
       "      <td>-0.011606</td>\n",
       "    </tr>\n",
       "    <tr>\n",
       "      <th>yr_built</th>\n",
       "      <td>0.021857</td>\n",
       "      <td>0.142461</td>\n",
       "      <td>0.463498</td>\n",
       "      <td>0.287775</td>\n",
       "      <td>0.050706</td>\n",
       "      <td>0.467481</td>\n",
       "      <td>-0.023563</td>\n",
       "      <td>-0.064465</td>\n",
       "      <td>-0.399698</td>\n",
       "      <td>0.408535</td>\n",
       "      <td>-0.161675</td>\n",
       "      <td>1.000000</td>\n",
       "      <td>-0.321342</td>\n",
       "      <td>0.008488</td>\n",
       "    </tr>\n",
       "    <tr>\n",
       "      <th>yr_renovated</th>\n",
       "      <td>-0.028774</td>\n",
       "      <td>-0.061082</td>\n",
       "      <td>-0.215886</td>\n",
       "      <td>-0.122817</td>\n",
       "      <td>-0.022730</td>\n",
       "      <td>-0.233996</td>\n",
       "      <td>0.008625</td>\n",
       "      <td>0.022967</td>\n",
       "      <td>-0.186818</td>\n",
       "      <td>-0.160426</td>\n",
       "      <td>0.043125</td>\n",
       "      <td>-0.321342</td>\n",
       "      <td>1.000000</td>\n",
       "      <td>-0.023882</td>\n",
       "    </tr>\n",
       "    <tr>\n",
       "      <th>month</th>\n",
       "      <td>0.041081</td>\n",
       "      <td>0.010835</td>\n",
       "      <td>0.026697</td>\n",
       "      <td>0.032825</td>\n",
       "      <td>-0.023286</td>\n",
       "      <td>0.036890</td>\n",
       "      <td>0.007530</td>\n",
       "      <td>-0.011304</td>\n",
       "      <td>0.017695</td>\n",
       "      <td>0.042919</td>\n",
       "      <td>-0.011606</td>\n",
       "      <td>0.008488</td>\n",
       "      <td>-0.023882</td>\n",
       "      <td>1.000000</td>\n",
       "    </tr>\n",
       "  </tbody>\n",
       "</table>\n",
       "</div>"
      ],
      "text/plain": [
       "                  price  bedrooms  bathrooms  sqft_living  sqft_lot    floors  \\\n",
       "price          1.000000  0.200336   0.327110     0.430410  0.050451  0.151461   \n",
       "bedrooms       0.200336  1.000000   0.545920     0.594884  0.068819  0.177895   \n",
       "bathrooms      0.327110  0.545920   1.000000     0.761154  0.107837  0.486428   \n",
       "sqft_living    0.430410  0.594884   0.761154     1.000000  0.210538  0.344850   \n",
       "sqft_lot       0.050451  0.068819   0.107837     0.210538  1.000000  0.003750   \n",
       "floors         0.151461  0.177895   0.486428     0.344850  0.003750  1.000000   \n",
       "waterfront     0.135648 -0.003483   0.076232     0.117616  0.017241  0.022024   \n",
       "view           0.228504  0.111028   0.211960     0.311009  0.073907  0.031211   \n",
       "condition      0.034915  0.025080  -0.119994    -0.062826  0.000558 -0.275013   \n",
       "sqft_above     0.367570  0.484705   0.689918     0.876443  0.216455  0.522814   \n",
       "sqft_basement  0.210427  0.334165   0.298020     0.447206  0.034842 -0.255510   \n",
       "yr_built       0.021857  0.142461   0.463498     0.287775  0.050706  0.467481   \n",
       "yr_renovated  -0.028774 -0.061082  -0.215886    -0.122817 -0.022730 -0.233996   \n",
       "month          0.041081  0.010835   0.026697     0.032825 -0.023286  0.036890   \n",
       "\n",
       "               waterfront      view  condition  sqft_above  sqft_basement  \\\n",
       "price            0.135648  0.228504   0.034915    0.367570       0.210427   \n",
       "bedrooms        -0.003483  0.111028   0.025080    0.484705       0.334165   \n",
       "bathrooms        0.076232  0.211960  -0.119994    0.689918       0.298020   \n",
       "sqft_living      0.117616  0.311009  -0.062826    0.876443       0.447206   \n",
       "sqft_lot         0.017241  0.073907   0.000558    0.216455       0.034842   \n",
       "floors           0.022024  0.031211  -0.275013    0.522814      -0.255510   \n",
       "waterfront       1.000000  0.360935   0.000352    0.078911       0.097501   \n",
       "view             0.360935  1.000000   0.063077    0.174327       0.321602   \n",
       "condition        0.000352  0.063077   1.000000   -0.178196       0.200632   \n",
       "sqft_above       0.078911  0.174327  -0.178196    1.000000      -0.038723   \n",
       "sqft_basement    0.097501  0.321602   0.200632   -0.038723       1.000000   \n",
       "yr_built        -0.023563 -0.064465  -0.399698    0.408535      -0.161675   \n",
       "yr_renovated     0.008625  0.022967  -0.186818   -0.160426       0.043125   \n",
       "month            0.007530 -0.011304   0.017695    0.042919      -0.011606   \n",
       "\n",
       "               yr_built  yr_renovated     month  \n",
       "price          0.021857     -0.028774  0.041081  \n",
       "bedrooms       0.142461     -0.061082  0.010835  \n",
       "bathrooms      0.463498     -0.215886  0.026697  \n",
       "sqft_living    0.287775     -0.122817  0.032825  \n",
       "sqft_lot       0.050706     -0.022730 -0.023286  \n",
       "floors         0.467481     -0.233996  0.036890  \n",
       "waterfront    -0.023563      0.008625  0.007530  \n",
       "view          -0.064465      0.022967 -0.011304  \n",
       "condition     -0.399698     -0.186818  0.017695  \n",
       "sqft_above     0.408535     -0.160426  0.042919  \n",
       "sqft_basement -0.161675      0.043125 -0.011606  \n",
       "yr_built       1.000000     -0.321342  0.008488  \n",
       "yr_renovated  -0.321342      1.000000 -0.023882  \n",
       "month          0.008488     -0.023882  1.000000  "
      ]
     },
     "execution_count": 16,
     "metadata": {},
     "output_type": "execute_result"
    }
   ],
   "source": [
    "tabcorr"
   ]
  },
  {
   "cell_type": "code",
   "execution_count": 17,
   "id": "ab7ab0be",
   "metadata": {},
   "outputs": [
    {
     "data": {
      "text/plain": [
       "<AxesSubplot:>"
      ]
     },
     "execution_count": 17,
     "metadata": {},
     "output_type": "execute_result"
    },
    {
     "data": {
      "image/png": "[encoded data removed]",
      "text/plain": [
       "<Figure size 864x864 with 2 Axes>"
      ]
     },
     "metadata": {
      "needs_background": "light"
     },
     "output_type": "display_data"
    }
   ],
   "source": [
    "plt.figure(figsize=(12,12))\n",
    "sns.heatmap(abs(tabcorr), cmap=\"coolwarm\")"
   ]
  },
  {
   "cell_type": "code",
   "execution_count": 18,
   "id": "3f5be438",
   "metadata": {},
   "outputs": [
    {
     "data": {
      "text/plain": [
       "<seaborn.matrix.ClusterGrid at 0x1fb44381820>"
      ]
     },
     "execution_count": 18,
     "metadata": {},
     "output_type": "execute_result"
    },
    {
     "data": {
      "image/png": "[encoded data removed]",
      "text/plain": [
       "<Figure size 720x720 with 4 Axes>"
      ]
     },
     "metadata": {
      "needs_background": "light"
     },
     "output_type": "display_data"
    }
   ],
   "source": [
    "sns.clustermap(abs(tabcorr), cmap=\"coolwarm\")"
   ]
  },
  {
   "cell_type": "code",
   "execution_count": 19,
   "id": "fcc7b3b0",
   "metadata": {},
   "outputs": [
    {
     "name": "stdout",
     "output_type": "stream",
     "text": [
      "price            1.000000\n",
      "bedrooms         0.200336\n",
      "bathrooms        0.327110\n",
      "sqft_living      0.430410\n",
      "sqft_lot         0.050451\n",
      "floors           0.151461\n",
      "waterfront       0.135648\n",
      "view             0.228504\n",
      "condition        0.034915\n",
      "sqft_above       0.367570\n",
      "sqft_basement    0.210427\n",
      "yr_built         0.021857\n",
      "yr_renovated    -0.028774\n",
      "month            0.041081\n",
      "Name: price, dtype: float64\n"
     ]
    }
   ],
   "source": [
    "correlations = tabcorr.price\n",
    "print(correlations)"
   ]
  },
  {
   "cell_type": "code",
   "execution_count": 20,
   "id": "64d12213",
   "metadata": {},
   "outputs": [
    {
     "name": "stdout",
     "output_type": "stream",
     "text": [
      "sqft_living      0.430410\n",
      "sqft_above       0.367570\n",
      "bathrooms        0.327110\n",
      "view             0.228504\n",
      "sqft_basement    0.210427\n",
      "bedrooms         0.200336\n",
      "floors           0.151461\n",
      "waterfront       0.135648\n",
      "sqft_lot         0.050451\n",
      "month            0.041081\n",
      "condition        0.034915\n",
      "yr_renovated     0.028774\n",
      "yr_built         0.021857\n",
      "Name: price, dtype: float64\n"
     ]
    }
   ],
   "source": [
    "correlations = correlations.drop(['price'],axis=0)\n",
    "print(abs(correlations).sort_values(ascending=False))"
   ]
  },
  {
   "cell_type": "code",
   "execution_count": 21,
   "id": "1d0c2473",
   "metadata": {},
   "outputs": [
    {
     "data": {
      "text/plain": [
       "Index(['price', 'bedrooms', 'bathrooms', 'sqft_living', 'sqft_lot', 'floors',\n",
       "       'waterfront', 'view', 'condition', 'sqft_above', 'sqft_basement',\n",
       "       'yr_built', 'yr_renovated', 'street', 'city', 'statezip', 'country',\n",
       "       'month'],\n",
       "      dtype='object')"
      ]
     },
     "execution_count": 21,
     "metadata": {},
     "output_type": "execute_result"
    }
   ],
   "source": [
    "df.columns"
   ]
  },
  {
   "cell_type": "code",
   "execution_count": 22,
   "id": "aaba6469",
   "metadata": {},
   "outputs": [
    {
     "name": "stdout",
     "output_type": "stream",
     "text": [
      "<class 'pandas.core.frame.DataFrame'>\n",
      "RangeIndex: 4600 entries, 0 to 4599\n",
      "Data columns (total 18 columns):\n",
      " #   Column         Non-Null Count  Dtype  \n",
      "---  ------         --------------  -----  \n",
      " 0   price          4600 non-null   float64\n",
      " 1   bedrooms       4600 non-null   float64\n",
      " 2   bathrooms      4600 non-null   float64\n",
      " 3   sqft_living    4600 non-null   int64  \n",
      " 4   sqft_lot       4600 non-null   int64  \n",
      " 5   floors         4600 non-null   float64\n",
      " 6   waterfront     4600 non-null   int64  \n",
      " 7   view           4600 non-null   int64  \n",
      " 8   condition      4600 non-null   int64  \n",
      " 9   sqft_above     4600 non-null   int64  \n",
      " 10  sqft_basement  4600 non-null   int64  \n",
      " 11  yr_built       4600 non-null   int64  \n",
      " 12  yr_renovated   4600 non-null   int64  \n",
      " 13  street         4600 non-null   object \n",
      " 14  city           4600 non-null   object \n",
      " 15  statezip       4600 non-null   object \n",
      " 16  country        4600 non-null   object \n",
      " 17  month          4600 non-null   int64  \n",
      "dtypes: float64(4), int64(10), object(4)\n",
      "memory usage: 647.0+ KB\n"
     ]
    }
   ],
   "source": [
    "df.info()"
   ]
  },
  {
   "cell_type": "code",
   "execution_count": 23,
   "id": "a6cc303a",
   "metadata": {},
   "outputs": [],
   "source": [
    "continuous_features = ['sqft_living','sqrt_log','sqft_above','sqft_basement','sqft_lot']\n",
    "discrete_features = ['month','city','bedrooms','bathrooms','floors','waterfront','view','condition',\n",
    "                     'country','yr_built','yr_renovated','statezip','street']"
   ]
  },
  {
   "cell_type": "code",
   "execution_count": 24,
   "id": "671069fb",
   "metadata": {},
   "outputs": [],
   "source": [
    "df1 = df[df.price<1000000].drop(discrete_features, axis=1)"
   ]
  },
  {
   "cell_type": "code",
   "execution_count": 27,
   "id": "133905b9",
   "metadata": {
    "scrolled": true
   },
   "outputs": [],
   "source": [
    "X = df1.drop(['price'], axis=1)\n",
    "y = df1.price\n",
    "X_train, X_test, y_train, y_test = train_test_split(X, y, test_size=0.1, random_state=1)"
   ]
  },
  {
   "cell_type": "code",
   "execution_count": 28,
   "id": "d5ece90d",
   "metadata": {},
   "outputs": [
    {
     "name": "stdout",
     "output_type": "stream",
     "text": [
      "<class 'pandas.core.frame.DataFrame'>\n",
      "Int64Index: 4256 entries, 0 to 4599\n",
      "Data columns (total 5 columns):\n",
      " #   Column         Non-Null Count  Dtype  \n",
      "---  ------         --------------  -----  \n",
      " 0   price          4256 non-null   float64\n",
      " 1   sqft_living    4256 non-null   int64  \n",
      " 2   sqft_lot       4256 non-null   int64  \n",
      " 3   sqft_above     4256 non-null   int64  \n",
      " 4   sqft_basement  4256 non-null   int64  \n",
      "dtypes: float64(1), int64(4)\n",
      "memory usage: 199.5 KB\n"
     ]
    }
   ],
   "source": [
    "df1.info()"
   ]
  },
  {
   "cell_type": "code",
   "execution_count": 29,
   "id": "8c8b09d3",
   "metadata": {},
   "outputs": [],
   "source": [
    "from sklearn.linear_model import LinearRegression"
   ]
  },
  {
   "cell_type": "code",
   "execution_count": 30,
   "id": "259795be",
   "metadata": {},
   "outputs": [],
   "source": [
    "lm = LinearRegression()\n",
    "lm.fit(X_train, y_train)            # apprentissage\n",
    "y_pred = lm.predict(X_test) "
   ]
  },
  {
   "cell_type": "code",
   "execution_count": 31,
   "id": "f1350d9e",
   "metadata": {},
   "outputs": [
    {
     "data": {
      "text/plain": [
       "Text(0.5, 1.0, 'Prix reels vs predictions')"
      ]
     },
     "execution_count": 31,
     "metadata": {},
     "output_type": "execute_result"
    },
    {
     "data": {
      "image/png": "[encoded data removed]",
      "text/plain": [
       "<Figure size 864x864 with 1 Axes>"
      ]
     },
     "metadata": {
      "needs_background": "light"
     },
     "output_type": "display_data"
    }
   ],
   "source": [
    "plt.figure(figsize=(12,12))\n",
    "plt.scatter(y_test, y_pred)\n",
    "plt.plot([y_test.min(),y_test.max()],[y_test.min(),y_test.max()], color='red', linewidth=3)\n",
    "plt.xlabel(\"Prix\")\n",
    "plt.ylabel(\"Prediction de prix\")\n",
    "plt.title(\"Prix reels vs predictions\")"
   ]
  },
  {
   "cell_type": "code",
   "execution_count": 32,
   "id": "2db5b2d6",
   "metadata": {},
   "outputs": [
    {
     "name": "stderr",
     "output_type": "stream",
     "text": [
      "c:\\users\\srinivas\\appdata\\local\\programs\\python\\python38\\lib\\site-packages\\seaborn\\distributions.py:2557: FutureWarning: `distplot` is a deprecated function and will be removed in a future version. Please adapt your code to use either `displot` (a figure-level function with similar flexibility) or `histplot` (an axes-level function for histograms).\n",
      "  warnings.warn(msg, FutureWarning)\n"
     ]
    },
    {
     "data": {
      "text/plain": [
       "<AxesSubplot:xlabel='price', ylabel='Density'>"
      ]
     },
     "execution_count": 32,
     "metadata": {},
     "output_type": "execute_result"
    },
    {
     "data": {
      "image/png": "[encoded data removed]",
      "text/plain": [
       "<Figure size 432x288 with 1 Axes>"
      ]
     },
     "metadata": {
      "needs_background": "light"
     },
     "output_type": "display_data"
    }
   ],
   "source": [
    "sns.distplot(y_test-y_pred)"
   ]
  },
  {
   "cell_type": "code",
   "execution_count": 33,
   "id": "3a2bd5ed",
   "metadata": {},
   "outputs": [
    {
     "name": "stdout",
     "output_type": "stream",
     "text": [
      "163032.1558829948\n"
     ]
    }
   ],
   "source": [
    "print(np.sqrt(mean_squared_error(y_test, y_pred)))"
   ]
  },
  {
   "cell_type": "code",
   "execution_count": 34,
   "id": "08bc5852",
   "metadata": {},
   "outputs": [
    {
     "name": "stdout",
     "output_type": "stream",
     "text": [
      "0.2678889168912386\n"
     ]
    }
   ],
   "source": [
    "scoreR2 = r2_score(y_test, y_pred)\n",
    "print(scoreR2)"
   ]
  },
  {
   "cell_type": "code",
   "execution_count": 35,
   "id": "3cfaf95b",
   "metadata": {},
   "outputs": [
    {
     "data": {
      "text/plain": [
       "0.2678889168912386"
      ]
     },
     "execution_count": 35,
     "metadata": {},
     "output_type": "execute_result"
    }
   ],
   "source": [
    "lm.score(X_test,y_test)"
   ]
  },
  {
   "cell_type": "code",
   "execution_count": 36,
   "id": "906cb839",
   "metadata": {},
   "outputs": [
    {
     "name": "stdout",
     "output_type": "stream",
     "text": [
      "<class 'pandas.core.frame.DataFrame'>\n",
      "RangeIndex: 4600 entries, 0 to 4599\n",
      "Data columns (total 18 columns):\n",
      " #   Column         Non-Null Count  Dtype  \n",
      "---  ------         --------------  -----  \n",
      " 0   price          4600 non-null   float64\n",
      " 1   bedrooms       4600 non-null   float64\n",
      " 2   bathrooms      4600 non-null   float64\n",
      " 3   sqft_living    4600 non-null   int64  \n",
      " 4   sqft_lot       4600 non-null   int64  \n",
      " 5   floors         4600 non-null   float64\n",
      " 6   waterfront     4600 non-null   int64  \n",
      " 7   view           4600 non-null   int64  \n",
      " 8   condition      4600 non-null   int64  \n",
      " 9   sqft_above     4600 non-null   int64  \n",
      " 10  sqft_basement  4600 non-null   int64  \n",
      " 11  yr_built       4600 non-null   int64  \n",
      " 12  yr_renovated   4600 non-null   int64  \n",
      " 13  street         4600 non-null   object \n",
      " 14  city           4600 non-null   object \n",
      " 15  statezip       4600 non-null   object \n",
      " 16  country        4600 non-null   object \n",
      " 17  month          4600 non-null   int64  \n",
      "dtypes: float64(4), int64(10), object(4)\n",
      "memory usage: 647.0+ KB\n"
     ]
    }
   ],
   "source": [
    "df.info()"
   ]
  },
  {
   "cell_type": "code",
   "execution_count": 37,
   "id": "d2806433",
   "metadata": {},
   "outputs": [],
   "source": [
    "df = df.drop(['city'], axis=1)\n",
    "df = df.drop(['statezip'], axis=1)\n",
    "df = df.drop(['country'], axis=1)\n",
    "df = df.drop(['street'], axis=1)\n",
    "\n",
    "X = df.drop(['price'], axis=1)\n",
    "y = df.price\n",
    "X_train, X_test, y_train, y_test = train_test_split(X, y, test_size=0.1, random_state=1)"
   ]
  },
  {
   "cell_type": "code",
   "execution_count": 38,
   "id": "d8f3f707",
   "metadata": {},
   "outputs": [
    {
     "name": "stdout",
     "output_type": "stream",
     "text": [
      "0.2814788278009802\n"
     ]
    }
   ],
   "source": [
    "from sklearn import ensemble\n",
    "rf = ensemble.RandomForestRegressor()\n",
    "rf.fit(X_train, y_train)\n",
    "y_rf = rf.predict(X_test)\n",
    "print(rf.score(X_test,y_test))"
   ]
  },
  {
   "cell_type": "code",
   "execution_count": 39,
   "id": "d81f448f",
   "metadata": {},
   "outputs": [
    {
     "data": {
      "text/plain": [
       "Text(0.5, 1.0, 'Prix reels vs predictions')"
      ]
     },
     "execution_count": 39,
     "metadata": {},
     "output_type": "execute_result"
    },
    {
     "data": {
      "image/png": "[encoded data removed]",
      "text/plain": [
       "<Figure size 864x864 with 1 Axes>"
      ]
     },
     "metadata": {
      "needs_background": "light"
     },
     "output_type": "display_data"
    }
   ],
   "source": [
    "plt.figure(figsize=(12,12))\n",
    "plt.scatter(y_test, y_rf)\n",
    "plt.plot([y_test.min(),y_test.max()],[y_test.min(),y_test.max()], color='red', linewidth=3)\n",
    "plt.xlabel(\"Prix\")\n",
    "plt.ylabel(\"Prediction de prix\")\n",
    "plt.title(\"Prix reels vs predictions\")"
   ]
  },
  {
   "cell_type": "code",
   "execution_count": 40,
   "id": "bc6de97a",
   "metadata": {},
   "outputs": [
    {
     "name": "stderr",
     "output_type": "stream",
     "text": [
      "c:\\users\\srinivas\\appdata\\local\\programs\\python\\python38\\lib\\site-packages\\seaborn\\distributions.py:2557: FutureWarning: `distplot` is a deprecated function and will be removed in a future version. Please adapt your code to use either `displot` (a figure-level function with similar flexibility) or `histplot` (an axes-level function for histograms).\n",
      "  warnings.warn(msg, FutureWarning)\n"
     ]
    },
    {
     "data": {
      "text/plain": [
       "<AxesSubplot:xlabel='price', ylabel='Density'>"
      ]
     },
     "execution_count": 40,
     "metadata": {},
     "output_type": "execute_result"
    },
    {
     "data": {
      "image/png": "[encoded data removed]",
      "text/plain": [
       "<Figure size 432x288 with 1 Axes>"
      ]
     },
     "metadata": {
      "needs_background": "light"
     },
     "output_type": "display_data"
    }
   ],
   "source": [
    "sns.distplot(y_test-y_rf)"
   ]
  },
  {
   "cell_type": "code",
   "execution_count": 41,
   "id": "cf8f0f7b",
   "metadata": {},
   "outputs": [
    {
     "name": "stdout",
     "output_type": "stream",
     "text": [
      "286527.13936695934\n"
     ]
    }
   ],
   "source": [
    "print(np.sqrt(mean_squared_error(y_test, y_rf)))"
   ]
  },
  {
   "cell_type": "code",
   "execution_count": 42,
   "id": "2b1bfd25",
   "metadata": {},
   "outputs": [
    {
     "data": {
      "text/plain": [
       "0.2814788278009802"
      ]
     },
     "execution_count": 42,
     "metadata": {},
     "output_type": "execute_result"
    }
   ],
   "source": [
    "rf.score(X_test,y_test)"
   ]
  },
  {
   "cell_type": "code",
   "execution_count": 43,
   "id": "c3a54384",
   "metadata": {},
   "outputs": [
    {
     "name": "stdout",
     "output_type": "stream",
     "text": [
      "-0.46582497269139633\n"
     ]
    },
    {
     "data": {
      "text/plain": [
       "Text(0.5, 1.0, 'Prix reels vs predictions')"
      ]
     },
     "execution_count": 43,
     "metadata": {},
     "output_type": "execute_result"
    },
    {
     "data": {
      "image/png": "[encoded data removed]",
      "text/plain": [
       "<Figure size 864x864 with 1 Axes>"
      ]
     },
     "metadata": {
      "needs_background": "light"
     },
     "output_type": "display_data"
    }
   ],
   "source": [
    "import xgboost as XGB\n",
    "xgb  = XGB.XGBRegressor()\n",
    "xgb.fit(X_train, y_train)\n",
    "y_xgb = xgb.predict(X_test)\n",
    "print(xgb.score(X_test,y_test))\n",
    "\n",
    "plt.figure(figsize=(12,12))\n",
    "plt.scatter(y_test, y_xgb)\n",
    "plt.plot([y_test.min(),y_test.max()],[y_test.min(),y_test.max()], color='red', linewidth=3)\n",
    "plt.xlabel(\"Prix\")\n",
    "plt.ylabel(\"Prediction de prix\")\n",
    "plt.title(\"Prix reels vs predictions\")"
   ]
  },
  {
   "cell_type": "code",
   "execution_count": null,
   "id": "ec3a45ee",
   "metadata": {},
   "outputs": [],
   "source": []
  }
 ],
 "metadata": {
  "kernelspec": {
   "display_name": "Python 3 (ipykernel)",
   "language": "python",
   "name": "python3"
  },
  "language_info": {
   "codemirror_mode": {
    "name": "ipython",
    "version": 3
   },
   "file_extension": ".py",
   "mimetype": "text/x-python",
   "name": "python",
   "nbconvert_exporter": "python",
   "pygments_lexer": "ipython3",
   "version": "3.8.3"
  }
 },
 "nbformat": 4,
 "nbformat_minor": 5
}
